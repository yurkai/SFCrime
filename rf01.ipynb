{
 "cells": [
  {
   "cell_type": "markdown",
   "metadata": {
    "collapsed": true
   },
   "source": [
    "# Соревнование: San Francisco Crime Classification\n",
    "*Given time and location, you must predict the category of crime that occurred. Kaggle is hosting this competition for the machine learning community to use for fun and practice.*\n",
    "\n",
    "https://www.kaggle.com/c/sf-crime"
   ]
  },
  {
   "cell_type": "markdown",
   "metadata": {},
   "source": [
    "Этот ноутбук структурирован таким образом, чтобы облегчить совместную работу над соревнованием. За некоторыми исключениями, каждый участник работает только в разделе 4. При этом ни одна из строк кода любого из разделов не является постоянной, если в ней нет необходимости, ее стоит исключить, если один из участников написал полезный код, который может пригодится остальным, то этот когда имеет смысл перенести из персонального раздела в общие. Ноутбук имеет следующую структуру:\n",
    "1. Подготовка работы. Загрузка библиотек и настройка отображения\n",
    "+ Загрузка и очистка данных\n",
    "+ Общие функции\n",
    "+ Персональный раздел\n",
    "+ Модель на тестовой выборке "
   ]
  },
  {
   "cell_type": "markdown",
   "metadata": {},
   "source": [
    "### 1. Подготовка работы. Загрузка библиотек и настройка отображения\n",
    "Импорты и настроийки, которые необходимы для шаблона."
   ]
  },
  {
   "cell_type": "code",
   "execution_count": 3,
   "metadata": {
    "collapsed": true
   },
   "outputs": [],
   "source": [
    "import pandas as pd\n",
    "import numpy as np\n",
    "import math\n",
    "import matplotlib.pyplot as plt\n",
    "from sklearn.cross_validation import KFold\n",
    "from sklearn.cross_validation import cross_val_score\n",
    "import time\n",
    "import datetime\n",
    "import csv\n",
    "import cPickle\n",
    "\n",
    "%matplotlib inline"
   ]
  },
  {
   "cell_type": "markdown",
   "metadata": {},
   "source": [
    "### 3. Общие функции\n",
    "Это функции для операций с данными.\n",
    "Сюда надо написать функции для записи моделей и их параметров в файл (хранить в json?), и пр."
   ]
  },
  {
   "cell_type": "code",
   "execution_count": 4,
   "metadata": {
    "collapsed": false
   },
   "outputs": [],
   "source": [
    "# добавление колонок к выборке\n",
    "# хорошо бы сделать, чтоб работало для разных типов\n",
    "def add_features_to_X(X, X_add):\n",
    "    assert X.shape[0] == X_add.shape[0]\n",
    "    X_add.index = X.index\n",
    "    return pd.concat([X, X_add], axis=1, join_axes=[X.index])\n",
    "\n",
    "# расп-сить колонку y.Category в матрицу с колонками out_features\n",
    "def y_to_dummy(y):\n",
    "    out = pd.get_dummies(( y ).tolist()+out_features)\n",
    "    return out.head(len(y))\n",
    "\n",
    "# приводим типы колонок первоначальной выборки в порядок\n",
    "def typify_origin(data):\n",
    "    data['Dates'] = pd.to_datetime(data['Dates'])\n",
    "    categorycal_cols = ['Category', 'Descript', 'DayOfWeek', 'PdDistrict',\n",
    "                        'Resolution', 'Address']\n",
    "    for category in categorycal_cols:\n",
    "        if category in data:\n",
    "            data[category] = data[category].astype('category')    \n",
    "    return data\n",
    "\n",
    "\n",
    "# для работы с усеченной выборкой\n",
    "# ограничиваем выборку 2009 и 2010 годами ;(\n",
    "def cut_data(data):\n",
    "    if 'year' not in data.columns:\n",
    "        data = add_year(data)\n",
    "    data = data[(data.year == 2009) | (data.year == 2010)]\n",
    "    return data\n",
    "\n",
    "## -- добавляем признаки --\n",
    "# год\n",
    "def add_year(data):\n",
    "    data['year'] = data['Dates'].dt.year\n",
    "    return data\n",
    "# квартал (3 месяца)\n",
    "def add_quarter(data):\n",
    "    data['quarter'] = data['Dates'].dt.quarter\n",
    "    return data\n",
    "# месяц\n",
    "def add_month(data):\n",
    "    data['month'] = data['Dates'].dt.month\n",
    "    return data\n",
    "# час\n",
    "def add_hour(data):\n",
    "    data['hour'] = data['Dates'].dt.hour\n",
    "    return data\n",
    "# минуты\n",
    "def add_minute(data):\n",
    "    data['minute'] = data['Dates'].dt.minute\n",
    "    return data\n",
    "# бинарные дни недели\n",
    "def day_to_dummy(days):    \n",
    "    out = pd.get_dummies(( days ).tolist()+day_features)\n",
    "    return out.head(len(days))\n",
    "def add_dummy_days(X):\n",
    "    X_add = day_to_dummy(X.DayOfWeek)\n",
    "    X = add_features_to_X(X, X_add)\n",
    "    return X"
   ]
  },
  {
   "cell_type": "code",
   "execution_count": 5,
   "metadata": {
    "collapsed": false
   },
   "outputs": [],
   "source": [
    "# проститутская синусоида\n",
    "def add_whoresin(data):\n",
    "    data['whoresin'] = map(math.cos, (data.hour + 3.3)/math.pi/1.35)\n",
    "#     data['whoresin'] = data['hour'].apply(lambda x: np.sin(-np.pi/12. * (x - 4))) #alexey_kozulin\n",
    "    return data\n",
    "\n",
    "def add_hour_0_12(data):\n",
    "    data['hour_0_12'] = data['hour'].apply(lambda x: 1 if (x==12)|(x==0) else 0)\n",
    "    return data\n",
    "\n",
    "def add_minute_0_30(data):\n",
    "    data['minute_0_30'] = data['minute'].apply(lambda x: 1 if (x==30)|(x==0) else 0)\n",
    "    return data\n",
    "\n",
    "def add_minute_15_45(data):\n",
    "    data['minute_15_45'] = data['minute'].apply(lambda x: 1 if (x==15)|(x==45) else 0)\n",
    "    return data\n",
    "\n",
    "def add_minute_01(data):\n",
    "    data['minute_01'] = data['minute'].apply(lambda x: 1 if (x==1) else 0)\n",
    "    return data\n",
    "\n",
    "def add_minute_x05(data):\n",
    "    data['minute_x05'] = data['minute'].apply(lambda x: 1 if (x==5)|(x==10)|(x==20)|(x==25)|\n",
    "                                                (x==35)|(x==40)|(x==50)|(x==55) else 0)\n",
    "    return data\n",
    "\n",
    "# улицы и углы улич\n",
    "# by @movb\n",
    "def get_streets(street):\n",
    "    if street.find('/') != -1:\n",
    "        return map(str.strip, street.split('/'))\n",
    "    pos = street.find('Block of ')\n",
    "    if pos != -1:        \n",
    "        return [street[pos+9:]]    \n",
    "    return [street]\n",
    "# by @movb\n",
    "def is_corner(addr):\n",
    "    streets = get_streets(addr)\n",
    "    if len(list(streets))>1:\n",
    "        return 1\n",
    "    return 0\n",
    "def add_corner(data):\n",
    "    data['corner'] = map(is_corner, data.Address)\n",
    "    return data"
   ]
  },
  {
   "cell_type": "code",
   "execution_count": null,
   "metadata": {
    "collapsed": false
   },
   "outputs": [],
   "source": []
  },
  {
   "cell_type": "markdown",
   "metadata": {},
   "source": [
    "### 2. Загрузка, очистка данных. Общие константы\n",
    "Обучающая и тренировочная выборки надоходятся в папке `data`. "
   ]
  },
  {
   "cell_type": "code",
   "execution_count": 6,
   "metadata": {
    "collapsed": false
   },
   "outputs": [],
   "source": [
    "train = typify_origin(pd.read_csv('./data/train.csv'))\n",
    "# работаем с усеченной выборкой\n",
    "# train = cut_data(train)"
   ]
  },
  {
   "cell_type": "code",
   "execution_count": 42,
   "metadata": {
    "collapsed": false
   },
   "outputs": [
    {
     "name": "stdout",
     "output_type": "stream",
     "text": [
      "<class 'pandas.core.frame.DataFrame'>\n",
      "Int64Index: 878049 entries, 0 to 878048\n",
      "Data columns (total 9 columns):\n",
      "Dates         878049 non-null datetime64[ns]\n",
      "Category      878049 non-null category\n",
      "Descript      878049 non-null category\n",
      "DayOfWeek     878049 non-null category\n",
      "PdDistrict    878049 non-null category\n",
      "Resolution    878049 non-null category\n",
      "Address       878049 non-null category\n",
      "X             878049 non-null float64\n",
      "Y             878049 non-null float64\n",
      "dtypes: category(6), datetime64[ns](1), float64(2)\n",
      "memory usage: 33.7 MB\n"
     ]
    }
   ],
   "source": [
    "train.info()"
   ]
  },
  {
   "cell_type": "markdown",
   "metadata": {},
   "source": [
    "#### 2.1. Очистка данных\n",
    "В то время, как в `train` находятся сырые данные, `X_train` содержит те же колонки, что и `test`, поэтому многие преобразования над обеими переменными могут выполняться одной функцией."
   ]
  },
  {
   "cell_type": "code",
   "execution_count": 7,
   "metadata": {
    "collapsed": false
   },
   "outputs": [],
   "source": [
    "# необходимо принять волевое решение, что делать с данными у которых левые координаты?\n",
    "# пока их исключаем\n",
    "train = train[train.Y < 40]\n",
    "\n",
    "# чтобы не было ворнингов о том, что это усеченный датафрейм\n",
    "# train.is_copy = False\n",
    "\n",
    "# целевая переменная, не путать с координатой\n",
    "y = train.Category"
   ]
  },
  {
   "cell_type": "code",
   "execution_count": 8,
   "metadata": {
    "collapsed": false
   },
   "outputs": [],
   "source": [
    "# эти колонки содержатся в тестовой выборке\n",
    "test_features = pd.read_csv('./data/test.csv', nrows=1, index_col='Id').columns.tolist()\n",
    "\n",
    "# список происшествий, колонки для файла с результатами \n",
    "out_features = pd.read_csv('./data/sampleSubmission.csv', nrows=1, index_col='Id').columns.tolist()\n",
    "\n",
    "# количество классов происшествий\n",
    "classes = len(out_features)\n",
    "\n",
    "# дни недели\n",
    "day_features = ['Sunday', 'Monday', 'Tuesday', 'Wednesday', 'Thursday', 'Friday', 'Saturday']"
   ]
  },
  {
   "cell_type": "code",
   "execution_count": null,
   "metadata": {
    "collapsed": false
   },
   "outputs": [],
   "source": []
  },
  {
   "cell_type": "markdown",
   "metadata": {},
   "source": [
    "#### 2.2. Общие константы\n",
    "Константы, которые используются для обработки данных."
   ]
  },
  {
   "cell_type": "code",
   "execution_count": 12,
   "metadata": {
    "collapsed": false
   },
   "outputs": [],
   "source": [
    "# данные\n",
    "train_rows = train.shape[0]\n",
    "train_features = train.columns.tolist()\n",
    "test_features = pd.read_csv('./data/test.csv', nrows=1, index_col='Id').columns.tolist()\n",
    "\n",
    "# другие\n",
    "random_state = 19"
   ]
  },
  {
   "cell_type": "code",
   "execution_count": null,
   "metadata": {
    "collapsed": false
   },
   "outputs": [],
   "source": []
  },
  {
   "cell_type": "markdown",
   "metadata": {},
   "source": [
    "#### 4. Персональный раздел. \n",
    "Место для творчества. В этом пункте можно творить что угодно! \n",
    "\n",
    "Возможно, стоит указывать свой `id` для наиболее полезных функций и т.п.\n",
    "\n",
    "В конце раздела передаем свой классификатор в переменную `clf`"
   ]
  },
  {
   "cell_type": "markdown",
   "metadata": {},
   "source": [
    "#### 4.1. Мои импорты"
   ]
  },
  {
   "cell_type": "code",
   "execution_count": 9,
   "metadata": {
    "collapsed": true
   },
   "outputs": [],
   "source": [
    "from sklearn.ensemble import RandomForestClassifier\n",
    "from sklearn.metrics import log_loss\n",
    "from sklearn.cross_validation import train_test_split"
   ]
  },
  {
   "cell_type": "markdown",
   "metadata": {},
   "source": [
    "#### 4.2. Мои константы\n",
    "Все мои клевые константы находятся здесь."
   ]
  },
  {
   "cell_type": "code",
   "execution_count": null,
   "metadata": {
    "collapsed": true
   },
   "outputs": [],
   "source": []
  },
  {
   "cell_type": "markdown",
   "metadata": {},
   "source": [
    "#### 4.3. Мои функции\n",
    "Мои потрясающие функции определены в следующих ячейках."
   ]
  },
  {
   "cell_type": "code",
   "execution_count": 10,
   "metadata": {
    "collapsed": false
   },
   "outputs": [],
   "source": [
    "# считает количество преступлений в y\n",
    "# если заданы правильные ответы y_true, то считает количество правильно определенных преступлений\n",
    "def count_crimes(y, y_true = 0):\n",
    "    cond = type(y_true) != type(0)\n",
    "    if cond:\n",
    "        assert len(y) == len(y_true)\n",
    "    # считаем категории\n",
    "    freq = []\n",
    "    for cat in out_features:\n",
    "        freq.append(sum(y==cat) if not cond else sum((y==cat) & (y==y_true)))\n",
    "    return freq\n",
    "\n",
    "# functions for writing parameters of classifier and its results into file\n",
    "# writing column names into file\n",
    "# DO IT JUST ONCE\n",
    "def write_column_names(filename, columns):\n",
    "    myfile = open(filename, \"w\")\n",
    "    writer = csv.writer(myfile)\n",
    "    writer.writerow(columns)\n",
    "    myfile.close()\n",
    "\n",
    "# appending a row int file\n",
    "def write_results(filename, line):\n",
    "    myfile = open(filename, \"a\")\n",
    "    writer = csv.writer(myfile)\n",
    "    writer.writerow(line)\n",
    "    myfile.close()\n",
    "\n",
    "# use this to get results row in right way\n",
    "def get_conSmat_line(datetime, sel, train, test, description, freq):\n",
    "    return [datetime.strftime(\"%Y-%m-%d %H:%M:%S\"), sel, train, test, description] + map(str, freq)\n",
    "\n",
    "def write_totaltrue(filename, datetime, train, test, description, y, y_true):\n",
    "    sel = 'total'\n",
    "    freq = count_crimes(y)\n",
    "    write_results(filename, get_conSmat_line(datetime, sel, train, test, description, freq))\n",
    "    sel = 'true'\n",
    "    freq = count_crimes(y, y_true)\n",
    "    write_results(filename, get_conSmat_line(datetime, sel, train, test, description, freq))"
   ]
  },
  {
   "cell_type": "code",
   "execution_count": 11,
   "metadata": {
    "collapsed": false
   },
   "outputs": [],
   "source": [
    "# это моя функция работы с признаками\n",
    "def modify_features(X):\n",
    "    my_features = ['X', 'Y', 'year', 'hour', 'minute_0_30', 'minute_15_45', 'minute_01', 'minute_x05',\n",
    "                  'corner']\n",
    "#     my_features = ['X', 'Y', 'year', 'hour', 'minute']\n",
    "    X = add_year(X)\n",
    "    X = add_hour(X)\n",
    "    X = add_minute(X)\n",
    "    X = add_minute_0_30(X)\n",
    "    X = add_minute_15_45(X)\n",
    "    X = add_minute_01(X)\n",
    "    X = add_minute_x05(X)\n",
    "#     X = add_hour_0_12(X)\n",
    "    X = add_corner(X)    \n",
    "    X = add_dummy_days(X)\n",
    "    \n",
    "    X = X[my_features + day_features]\n",
    "    return X"
   ]
  },
  {
   "cell_type": "code",
   "execution_count": null,
   "metadata": {
    "collapsed": false
   },
   "outputs": [],
   "source": []
  },
  {
   "cell_type": "code",
   "execution_count": null,
   "metadata": {
    "collapsed": false
   },
   "outputs": [],
   "source": []
  },
  {
   "cell_type": "markdown",
   "metadata": {},
   "source": [
    "#### 4.4. Моя модель\n",
    "Моя крутая модель, ее запредельные метрики и наглядные графики."
   ]
  },
  {
   "cell_type": "code",
   "execution_count": 9,
   "metadata": {
    "collapsed": false
   },
   "outputs": [],
   "source": [
    "# запись количества преступлений модели в файл\n",
    "# селектор true соответствует количеству правильно определенных преступлений \n",
    "# селектор total соответствует количеству перступлений категории\n",
    "\n",
    "# записываем заголовок и правильные ответы\n",
    "filename = './data/conshmat.csv'\n",
    "columns = ['date', 'sel'] + ['train', 'test', 'description'] + out_features\n",
    "# write_column_names(filename, columns)\n",
    "# write_results(filename, get_conSmat_line(datetime.datetime.now(), \n",
    "#                                          'origin',  \n",
    "#                                          '0.7X(rs=12)', \n",
    "#                                          '0.3X(rs=12)',\n",
    "#                                          '',\n",
    "#                                          count_crimes(y_test)))\n"
   ]
  },
  {
   "cell_type": "code",
   "execution_count": 10,
   "metadata": {
    "collapsed": false
   },
   "outputs": [
    {
     "data": {
      "text/plain": [
       "X               float64\n",
       "Y               float64\n",
       "year              int64\n",
       "hour              int64\n",
       "minute_0_30       int64\n",
       "minute_15_45      int64\n",
       "minute_01         int64\n",
       "minute_x05        int64\n",
       "corner            int64\n",
       "Sunday          float64\n",
       "Monday          float64\n",
       "Tuesday         float64\n",
       "Wednesday       float64\n",
       "Thursday        float64\n",
       "Friday          float64\n",
       "Saturday        float64\n",
       "dtype: object"
      ]
     },
     "execution_count": 10,
     "metadata": {},
     "output_type": "execute_result"
    }
   ],
   "source": [
    "# моя обучающая выборка\n",
    "X = 0\n",
    "X = modify_features(train)\n",
    "X_train, X_test, y_train, y_test = train_test_split(X, y, test_size=0.3, random_state=12)\n",
    "assert (y_train.unique().shape == y_test.unique().shape)\n",
    "X_train.dtypes"
   ]
  },
  {
   "cell_type": "code",
   "execution_count": 13,
   "metadata": {
    "collapsed": false
   },
   "outputs": [],
   "source": [
    "# параметры классификатора\n",
    "n_estimators = 500\n",
    "max_depth = 18\n",
    "random_state= 19\n",
    "\n",
    "# мой классификатор\n",
    "rf_clf = RandomForestClassifier(n_estimators=n_estimators, max_depth=max_depth, n_jobs=4, \n",
    "                                random_state=random_state, verbose=True)"
   ]
  },
  {
   "cell_type": "code",
   "execution_count": 14,
   "metadata": {
    "collapsed": false
   },
   "outputs": [
    {
     "name": "stderr",
     "output_type": "stream",
     "text": [
      "[Parallel(n_jobs=4)]: Done  42 tasks      | elapsed:   30.1s\n",
      "[Parallel(n_jobs=4)]: Done 192 tasks      | elapsed:  2.2min\n",
      "[Parallel(n_jobs=4)]: Done 442 tasks      | elapsed:  5.2min\n",
      "[Parallel(n_jobs=4)]: Done 500 out of 500 | elapsed:  5.9min finished\n",
      "[Parallel(n_jobs=4)]: Done  42 tasks      | elapsed:    7.1s\n",
      "[Parallel(n_jobs=4)]: Done 192 tasks      | elapsed:   37.3s\n",
      "[Parallel(n_jobs=4)]: Done 442 tasks      | elapsed:  1.5min\n",
      "[Parallel(n_jobs=4)]: Done 500 out of 500 | elapsed:  1.7min finished\n"
     ]
    },
    {
     "name": "stdout",
     "output_type": "stream",
     "text": [
      "trees: 500\n",
      "Time elapsed: 353.468503\n",
      "logloss: 2.27429623873\n"
     ]
    }
   ],
   "source": [
    "# обучение моего классификатора и проверка качества\n",
    "start_time = datetime.datetime.now()\n",
    "rf_clf.fit(X_train, y_train)\n",
    "duration = (datetime.datetime.now() - start_time).total_seconds()\n",
    "\n",
    "y_prob = rf_clf.predict_proba(X_test)\n",
    "logloss = log_loss(y_test, y_prob)\n",
    "\n",
    "print 'trees:', n_estimators\n",
    "print 'Time elapsed:', duration\n",
    "print 'logloss: %s' % (logloss)"
   ]
  },
  {
   "cell_type": "code",
   "execution_count": 69,
   "metadata": {
    "collapsed": false
   },
   "outputs": [
    {
     "name": "stdout",
     "output_type": "stream",
     "text": [
      "LAST RUN\n",
      "trees: 100\n",
      "Time elapsed: 72.144815\n",
      "logloss: 2.29427723858\n",
      "max_depth: 16\n"
     ]
    }
   ],
   "source": [
    "print 'LAST RUN'\n",
    "print 'trees:', n_estimators\n",
    "print 'Time elapsed:', duration\n",
    "print 'logloss: %s' % (logloss)\n",
    "print 'max_depth:', rf_clf.get_params()['max_depth']"
   ]
  },
  {
   "cell_type": "code",
   "execution_count": 15,
   "metadata": {
    "collapsed": false
   },
   "outputs": [
    {
     "name": "stdout",
     "output_type": "stream",
     "text": [
      "LAST Best RUN\n",
      "trees: 500\n",
      "Time elapsed: 353.468503\n",
      "logloss: 2.27429623873\n",
      "max_depth: 18\n"
     ]
    },
    {
     "data": {
      "text/plain": [
       "X               float64\n",
       "Y               float64\n",
       "year              int64\n",
       "hour              int64\n",
       "minute_0_30       int64\n",
       "minute_15_45      int64\n",
       "minute_01         int64\n",
       "minute_x05        int64\n",
       "corner            int64\n",
       "Sunday          float64\n",
       "Monday          float64\n",
       "Tuesday         float64\n",
       "Wednesday       float64\n",
       "Thursday        float64\n",
       "Friday          float64\n",
       "Saturday        float64\n",
       "dtype: object"
      ]
     },
     "execution_count": 15,
     "metadata": {},
     "output_type": "execute_result"
    }
   ],
   "source": [
    "print 'LAST Best RUN'\n",
    "print 'trees:', n_estimators\n",
    "print 'Time elapsed:', duration\n",
    "print 'logloss: %s' % (logloss)\n",
    "print 'max_depth:', rf_clf.get_params()['max_depth']\n",
    "X_train.dtypes"
   ]
  },
  {
   "cell_type": "code",
   "execution_count": 70,
   "metadata": {
    "collapsed": false
   },
   "outputs": [
    {
     "name": "stderr",
     "output_type": "stream",
     "text": [
      "[Parallel(n_jobs=4)]: Done  42 tasks      | elapsed:    3.3s\n",
      "[Parallel(n_jobs=4)]: Done 100 out of 100 | elapsed:   12.5s finished\n"
     ]
    }
   ],
   "source": [
    "# для учета в шматрикс\n",
    "# предсказываем преступления\n",
    "pred = rf_clf.predict(X_test)\n",
    "# записываем в файл\n",
    "write_totaltrue(filename, start_time, \n",
    "                '0.7X(rs=12)', \n",
    "                '0.3X(rs=12)', \n",
    "                'coords, year, hour,  minutes(0/30,15/45,01,x05), binary(DayOfWeek)', \n",
    "                pred, y_test)"
   ]
  },
  {
   "cell_type": "code",
   "execution_count": 101,
   "metadata": {
    "collapsed": false
   },
   "outputs": [],
   "source": []
  },
  {
   "cell_type": "code",
   "execution_count": null,
   "metadata": {
    "collapsed": false
   },
   "outputs": [],
   "source": []
  },
  {
   "cell_type": "code",
   "execution_count": null,
   "metadata": {
    "collapsed": false
   },
   "outputs": [],
   "source": []
  },
  {
   "cell_type": "code",
   "execution_count": 16,
   "metadata": {
    "collapsed": false
   },
   "outputs": [
    {
     "data": {
      "text/plain": [
       "<matplotlib.axes._subplots.AxesSubplot at 0x113390e10>"
      ]
     },
     "execution_count": 16,
     "metadata": {},
     "output_type": "execute_result"
    },
    {
     "data": {
      "image/png": "[encoded data removed]",
      "text/plain": [
       "<matplotlib.figure.Figure at 0x1136bdd90>"
      ]
     },
     "metadata": {},
     "output_type": "display_data"
    }
   ],
   "source": [
    "# очень важные признаки\n",
    "feat_imp = pd.Series(rf_clf.feature_importances_, X.columns).sort_values(ascending=False)\n",
    "feat_imp.plot(kind='bar', title='Feature Importances')"
   ]
  },
  {
   "cell_type": "markdown",
   "metadata": {
    "collapsed": false
   },
   "source": [
    "#### 4.5. Обучение финальной модели"
   ]
  },
  {
   "cell_type": "code",
   "execution_count": null,
   "metadata": {
    "collapsed": false
   },
   "outputs": [],
   "source": [
    "n_estimators = 500\n",
    "max_depth = 18\n",
    "random_state= 19\n",
    "\n",
    "X = modify_features(train)\n",
    "\n",
    "rf_clf = RandomForestClassifier(n_estimators=n_estimators, max_depth=max_depth, n_jobs=4, \n",
    "                                random_state=random_state, verbose=True)\n",
    "\n",
    "start_time = datetime.datetime.now()\n",
    "rf_clf.fit(X, y)\n",
    "duration = (datetime.datetime.now() - start_time).total_seconds()\n",
    "\n",
    "\n",
    "print 'trees:', n_estimators\n",
    "print 'Time elapsed:', duration\n",
    "print 'max_depth:', rf_clf.get_params()['max_depth']"
   ]
  },
  {
   "cell_type": "code",
   "execution_count": 20,
   "metadata": {
    "collapsed": false
   },
   "outputs": [],
   "source": []
  },
  {
   "cell_type": "code",
   "execution_count": 18,
   "metadata": {
    "collapsed": false
   },
   "outputs": [],
   "source": [
    "# очень большой размер модели, нафиг надо\n",
    "clf = rf_clf\n",
    "model_file = 'rf01.cpickle'\n",
    "\n",
    "# save model\n",
    "# with open(model_file, 'wb') as f:\n",
    "#     cPickle.dump(clf, f)\n",
    "\n",
    "\n",
    "# load model\n",
    "# with open('path/to/file', 'rb') as f:\n",
    "#     clf = cPickle.load(f)"
   ]
  },
  {
   "cell_type": "markdown",
   "metadata": {},
   "source": [
    "### 5. Тестирование"
   ]
  },
  {
   "cell_type": "code",
   "execution_count": 19,
   "metadata": {
    "collapsed": true
   },
   "outputs": [],
   "source": [
    "filename = 'mysub.csv.gzip'"
   ]
  },
  {
   "cell_type": "markdown",
   "metadata": {},
   "source": [
    "#### 5.1. Загрузка и обработка тестовой выборки"
   ]
  },
  {
   "cell_type": "code",
   "execution_count": 13,
   "metadata": {
    "collapsed": false
   },
   "outputs": [
    {
     "name": "stdout",
     "output_type": "stream",
     "text": [
      "<class 'pandas.core.frame.DataFrame'>\n",
      "Int64Index: 884262 entries, 0 to 884261\n",
      "Data columns (total 16 columns):\n",
      "X               884262 non-null float64\n",
      "Y               884262 non-null float64\n",
      "year            884262 non-null int64\n",
      "hour            884262 non-null int64\n",
      "minute_0_30     884262 non-null int64\n",
      "minute_15_45    884262 non-null int64\n",
      "minute_01       884262 non-null int64\n",
      "minute_x05      884262 non-null int64\n",
      "corner          884262 non-null int64\n",
      "Sunday          884262 non-null float64\n",
      "Monday          884262 non-null float64\n",
      "Tuesday         884262 non-null float64\n",
      "Wednesday       884262 non-null float64\n",
      "Thursday        884262 non-null float64\n",
      "Friday          884262 non-null float64\n",
      "Saturday        884262 non-null float64\n",
      "dtypes: float64(9), int64(7)\n",
      "memory usage: 114.7 MB\n"
     ]
    }
   ],
   "source": [
    "test = typify_origin(pd.read_csv('./data/test.csv'))\n",
    "X_test = modify_features(test)\n",
    "X_test.info()\n",
    "\n",
    "train = 0\n",
    "test = 0\n",
    "X = 0\n",
    "X_train = 0\n",
    "# get local variables\n",
    "# whos"
   ]
  },
  {
   "cell_type": "code",
   "execution_count": 16,
   "metadata": {
    "collapsed": false
   },
   "outputs": [],
   "source": [
    "# whos"
   ]
  },
  {
   "cell_type": "code",
   "execution_count": null,
   "metadata": {
    "collapsed": false
   },
   "outputs": [],
   "source": []
  },
  {
   "cell_type": "code",
   "execution_count": null,
   "metadata": {
    "collapsed": false
   },
   "outputs": [],
   "source": []
  },
  {
   "cell_type": "markdown",
   "metadata": {},
   "source": [
    "#### 5.2. Предсказания классификатора\n",
    "Пропускаем тестовую выборку через свой классификатор и записываем результаты в файл. "
   ]
  },
  {
   "cell_type": "code",
   "execution_count": null,
   "metadata": {
    "collapsed": false
   },
   "outputs": [],
   "source": [
    "y_pred = clf.predict_proba(X_test)"
   ]
  },
  {
   "cell_type": "code",
   "execution_count": 128,
   "metadata": {
    "collapsed": false
   },
   "outputs": [],
   "source": [
    "out = pd.DataFrame(data=y_pred, columns=out_features)\n",
    "out.to_csv(filename, index_label='Id', float_format='%.6f')\n",
    "\n",
    "# write_results(filename, pred)"
   ]
  },
  {
   "cell_type": "markdown",
   "metadata": {},
   "source": [
    "\n"
   ]
  },
  {
   "cell_type": "code",
   "execution_count": null,
   "metadata": {
    "collapsed": false
   },
   "outputs": [],
   "source": []
  },
  {
   "cell_type": "code",
   "execution_count": null,
   "metadata": {
    "collapsed": false
   },
   "outputs": [],
   "source": []
  },
  {
   "cell_type": "code",
   "execution_count": 116,
   "metadata": {
    "collapsed": false
   },
   "outputs": [],
   "source": []
  },
  {
   "cell_type": "code",
   "execution_count": null,
   "metadata": {
    "collapsed": true
   },
   "outputs": [],
   "source": []
  },
  {
   "cell_type": "code",
   "execution_count": null,
   "metadata": {
    "collapsed": false
   },
   "outputs": [],
   "source": []
  },
  {
   "cell_type": "code",
   "execution_count": null,
   "metadata": {
    "collapsed": false
   },
   "outputs": [],
   "source": [
    "\n"
   ]
  },
  {
   "cell_type": "code",
   "execution_count": null,
   "metadata": {
    "collapsed": false
   },
   "outputs": [],
   "source": []
  },
  {
   "cell_type": "code",
   "execution_count": null,
   "metadata": {
    "collapsed": true
   },
   "outputs": [],
   "source": []
  }
 ],
 "metadata": {
  "kernelspec": {
   "display_name": "Python 2",
   "language": "python",
   "name": "python2"
  },
  "language_info": {
   "codemirror_mode": {
    "name": "ipython",
    "version": 2
   },
   "file_extension": ".py",
   "mimetype": "text/x-python",
   "name": "python",
   "nbconvert_exporter": "python",
   "pygments_lexer": "ipython2",
   "version": "2.7.11"
  }
 },
 "nbformat": 4,
 "nbformat_minor": 0
}
