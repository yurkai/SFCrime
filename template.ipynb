{
 "cells": [
  {
   "cell_type": "markdown",
   "metadata": {
    "collapsed": true
   },
   "source": [
    "# Соревнование: San Francisco Crime Classification\n",
    "*Given time and location, you must predict the category of crime that occurred. Kaggle is hosting this competition for the machine learning community to use for fun and practice.*\n",
    "\n",
    "https://www.kaggle.com/c/sf-crime"
   ]
  },
  {
   "cell_type": "markdown",
   "metadata": {},
   "source": [
    "Этот ноутбук структурирован таким образом, чтобы облегчить совместную работу над соревнованием. За некоторыми исключениями, каждый участник работает только в разделе 4. При этом ни одна из строк кода любого из разделов не является постоянной, если в ней нет необходимости, ее стоит исключить, если один из участников написал полезный код, который может пригодится остальным, то этот когда имеет смысл перенести из персонального раздела в общие. Ноутбук имеет следующую структуру:\n",
    "1. Подготовка работы. Загрузка библиотек и настройка отображения\n",
    "+ Загрузка и очистка данных\n",
    "+ Общие функции\n",
    "+ Персональный раздел\n",
    "+ Модель на тестовой выборке "
   ]
  },
  {
   "cell_type": "markdown",
   "metadata": {},
   "source": [
    "### 1. Подготовка работы. Загрузка библиотек и настройка отображения\n",
    "Импорты и настроийки, которые необходимы для шаблона."
   ]
  },
  {
   "cell_type": "code",
   "execution_count": 1,
   "metadata": {
    "collapsed": true
   },
   "outputs": [],
   "source": [
    "import pandas as pd\n",
    "import numpy as np\n",
    "import matplotlib.pyplot as plt\n",
    "from sklearn.cross_validation import KFold\n",
    "from sklearn.cross_validation import cross_val_score\n",
    "import time\n",
    "import datetime\n",
    "import csv\n",
    "\n",
    "%matplotlib inline"
   ]
  },
  {
   "cell_type": "markdown",
   "metadata": {},
   "source": [
    "### 2. Загрузка, очистка данных. Общие константы\n",
    "Обучающая и тренировочная выборки надоходятся в папке `data`. "
   ]
  },
  {
   "cell_type": "code",
   "execution_count": 2,
   "metadata": {
    "collapsed": false
   },
   "outputs": [],
   "source": [
    "train = pd.read_csv('./data/train.csv')"
   ]
  },
  {
   "cell_type": "code",
   "execution_count": null,
   "metadata": {
    "collapsed": false
   },
   "outputs": [],
   "source": []
  },
  {
   "cell_type": "markdown",
   "metadata": {},
   "source": [
    "#### 2.1. Очистка данных\n",
    "В то время, как в `train` находятся сырые данные, `X_train` содержит те же колонки, что и `test`, поэтому многие преобразования над обеими переменными могут выполняться одной функцией."
   ]
  },
  {
   "cell_type": "code",
   "execution_count": 42,
   "metadata": {
    "collapsed": true
   },
   "outputs": [],
   "source": [
    "# необходимо принять волевое решение, что делать с данными у которых левые координаты?\n",
    "# пока их исключаем\n",
    "train = train[train.Y < 40]\n",
    "# эти колонки содержаться в тестовой выбоке\n",
    "test_features = pd.read_csv('./data/test.csv', nrows=1, index_col='Id').columns.tolist()\n",
    "# теперь X_train с правильными колонками\n",
    "X_train = train[test_features]\n",
    "# целевая переменная, не путать с координатой\n",
    "y = train.Category\n",
    "# список происшествий, колонки для файла с результатами \n",
    "out_features = pd.read_csv('./data/sampleSubmission.csv', nrows=1, index_col='Id').columns.tolist()\n",
    "# количество классов происшествий\n",
    "classes = len(out_features)"
   ]
  },
  {
   "cell_type": "code",
   "execution_count": null,
   "metadata": {
    "collapsed": false
   },
   "outputs": [],
   "source": []
  },
  {
   "cell_type": "markdown",
   "metadata": {},
   "source": [
    "#### 2.2. Общие константы\n",
    "Константы, которые используются для обработки данных."
   ]
  },
  {
   "cell_type": "code",
   "execution_count": 31,
   "metadata": {
    "collapsed": false
   },
   "outputs": [],
   "source": [
    "# данные\n",
    "train_rows = X_train.shape[0]\n",
    "train_features = train.columns.tolist()\n",
    "test_features = pd.read_csv('./data/test.csv', nrows=1, index_col='Id').columns.tolist()\n",
    "\n",
    "# другие\n",
    "random_state = 19"
   ]
  },
  {
   "cell_type": "code",
   "execution_count": null,
   "metadata": {
    "collapsed": false
   },
   "outputs": [],
   "source": []
  },
  {
   "cell_type": "markdown",
   "metadata": {},
   "source": [
    "### 3. Общие функции\n",
    "Это функции для операций с данными.\n",
    "Сюда надо написать функции для записи моделей и их параметров в файл (хранить в json?), и пр."
   ]
  },
  {
   "cell_type": "code",
   "execution_count": 20,
   "metadata": {
    "collapsed": true
   },
   "outputs": [],
   "source": [
    "# добавление колонок к выборке\n",
    "# хорошо бы сделать, чтоб работало для разных типов\n",
    "def add_features_to_X(X, X_add):\n",
    "    assert X.shape[0] == X_add.shape[0]\n",
    "    return pd.concat([X, X_add], axis=1, join_axes=[X.index])\n",
    "\n",
    "# расп-сить колонку y.Category в матрицу с колонками out_features\n",
    "def convert_y_to_matrix(Category):\n",
    "    #\n",
    "\n",
    "# запись результатов в файл\n",
    "# имена колонок содержатся в out_features\n",
    "def write_results(filename, results):\n",
    "    #\n"
   ]
  },
  {
   "cell_type": "code",
   "execution_count": null,
   "metadata": {
    "collapsed": false
   },
   "outputs": [],
   "source": []
  },
  {
   "cell_type": "markdown",
   "metadata": {},
   "source": [
    "### 4. Персональный раздел. \n",
    "Место для творчества. В этом пункте можно творить что угодно! \n",
    "\n",
    "Возможно, стоит указывать свой `id` для наиболее полезных функций и т.п.\n",
    "\n",
    "В конце раздела передаем свой классификатор в переменную `clf`"
   ]
  },
  {
   "cell_type": "markdown",
   "metadata": {},
   "source": [
    "#### 4.1. Мои импорты"
   ]
  },
  {
   "cell_type": "code",
   "execution_count": 19,
   "metadata": {
    "collapsed": true
   },
   "outputs": [],
   "source": [
    "from sklearn.ensemble import FantasticClassifier"
   ]
  },
  {
   "cell_type": "markdown",
   "metadata": {},
   "source": [
    "#### 4.2. Мои константы\n",
    "Все мои клевые константы находятся здесь."
   ]
  },
  {
   "cell_type": "code",
   "execution_count": 39,
   "metadata": {
    "collapsed": true
   },
   "outputs": [],
   "source": [
    "# то, чем пользуюcь только я\n",
    "random_state = 42\n",
    "n_jobs = 4\n",
    "learning_rate = 0.1"
   ]
  },
  {
   "cell_type": "markdown",
   "metadata": {},
   "source": [
    "#### 4.3. Мои функции\n",
    "Мои потрясающие функции определены в следующих ячейках."
   ]
  },
  {
   "cell_type": "code",
   "execution_count": 23,
   "metadata": {
    "collapsed": true
   },
   "outputs": [],
   "source": [
    "# это моя воображаемая функция добавления новых признаков\n",
    "def add_breakthru_features(X):\n",
    "    return X # сорри :("
   ]
  },
  {
   "cell_type": "code",
   "execution_count": null,
   "metadata": {
    "collapsed": true
   },
   "outputs": [],
   "source": []
  },
  {
   "cell_type": "markdown",
   "metadata": {},
   "source": [
    "#### 4.4. Моя модель\n",
    "Моя крутая модель, ее запредельные метрики и наглядные графики."
   ]
  },
  {
   "cell_type": "code",
   "execution_count": 45,
   "metadata": {
    "collapsed": false
   },
   "outputs": [],
   "source": [
    "# моя обучающая выборка\n",
    "X = add_breakthru_features(X_train)\n",
    "\n",
    "# настройка кросс-валидации\n",
    "cv = KFold(n=train_rows, n_folds=5, shuffle=True, random_state=random_state)\n",
    "\n",
    "# мой классификатор\n",
    "my_awesome_clf = FantasticClassifier()"
   ]
  },
  {
   "cell_type": "code",
   "execution_count": 60,
   "metadata": {
    "collapsed": false
   },
   "outputs": [
    {
     "name": "stdout",
     "output_type": "stream",
     "text": [
      "Time elapsed: 1.003155\n",
      "average score (5 folds): 2.71828\n"
     ]
    }
   ],
   "source": [
    "# обучение моего классификаторв и проверка качества\n",
    "start_time = datetime.datetime.now()\n",
    "# logloss = cross_val_score(my_awesome_clf, X, y, cv=cv, scoring='log_loss').mean()\n",
    "time.sleep(1)\n",
    "logloss = 2.71828\n",
    "duration = (datetime.datetime.now() - start_time).total_seconds()\n",
    "\n",
    "print 'Time elapsed:', duration\n",
    "print 'average score (5 folds): %s' % logloss"
   ]
  },
  {
   "cell_type": "code",
   "execution_count": 57,
   "metadata": {
    "collapsed": false
   },
   "outputs": [],
   "source": [
    "clf = my_awesome_clf"
   ]
  },
  {
   "cell_type": "markdown",
   "metadata": {},
   "source": [
    "### 5. Тестирование\n",
    "О том, что надо скормить своему классификатору тестовую выборку."
   ]
  },
  {
   "cell_type": "code",
   "execution_count": null,
   "metadata": {
    "collapsed": true
   },
   "outputs": [],
   "source": [
    "filename = 'mybest.csv'"
   ]
  },
  {
   "cell_type": "markdown",
   "metadata": {},
   "source": [
    "#### 5.1. Загрузка и константы тестовой выборки"
   ]
  },
  {
   "cell_type": "code",
   "execution_count": null,
   "metadata": {
    "collapsed": true
   },
   "outputs": [],
   "source": []
  },
  {
   "cell_type": "code",
   "execution_count": null,
   "metadata": {
    "collapsed": true
   },
   "outputs": [],
   "source": []
  },
  {
   "cell_type": "markdown",
   "metadata": {},
   "source": [
    "#### 5.2. Обработка тестовой выборки"
   ]
  },
  {
   "cell_type": "code",
   "execution_count": null,
   "metadata": {
    "collapsed": true
   },
   "outputs": [],
   "source": []
  },
  {
   "cell_type": "code",
   "execution_count": null,
   "metadata": {
    "collapsed": true
   },
   "outputs": [],
   "source": []
  },
  {
   "cell_type": "markdown",
   "metadata": {},
   "source": [
    "#### 5.3. Предсказания классификатора\n",
    "Пропускаем тестовую выборку через свой классификатор и записываем результаты в файл. "
   ]
  },
  {
   "cell_type": "code",
   "execution_count": null,
   "metadata": {
    "collapsed": true
   },
   "outputs": [],
   "source": [
    "# pred = clf.predict()"
   ]
  },
  {
   "cell_type": "code",
   "execution_count": null,
   "metadata": {
    "collapsed": true
   },
   "outputs": [],
   "source": [
    "# write_results(filename, pred)"
   ]
  },
  {
   "cell_type": "markdown",
   "metadata": {},
   "source": [
    "# 2Do:\n",
    "1. Константы в раздел 2 или 3?\n",
    "+ функция для записи и чтения данных о моделировании (параметры модели, длительность, используемые данные и т.д.)\n",
    "+ функция для добавления новых фич к исходным данным\n",
    "+ что делать с данными с неправильными координатами?\n"
   ]
  },
  {
   "cell_type": "code",
   "execution_count": null,
   "metadata": {
    "collapsed": true
   },
   "outputs": [],
   "source": []
  },
  {
   "cell_type": "code",
   "execution_count": null,
   "metadata": {
    "collapsed": true
   },
   "outputs": [],
   "source": []
  },
  {
   "cell_type": "code",
   "execution_count": null,
   "metadata": {
    "collapsed": true
   },
   "outputs": [],
   "source": []
  },
  {
   "cell_type": "code",
   "execution_count": null,
   "metadata": {
    "collapsed": true
   },
   "outputs": [],
   "source": []
  },
  {
   "cell_type": "code",
   "execution_count": null,
   "metadata": {
    "collapsed": true
   },
   "outputs": [],
   "source": []
  },
  {
   "cell_type": "code",
   "execution_count": null,
   "metadata": {
    "collapsed": true
   },
   "outputs": [],
   "source": []
  }
 ],
 "metadata": {
  "kernelspec": {
   "display_name": "Python 2",
   "language": "python",
   "name": "python2"
  },
  "language_info": {
   "codemirror_mode": {
    "name": "ipython",
    "version": 2
   },
   "file_extension": ".py",
   "mimetype": "text/x-python",
   "name": "python",
   "nbconvert_exporter": "python",
   "pygments_lexer": "ipython2",
   "version": "2.7.11"
  }
 },
 "nbformat": 4,
 "nbformat_minor": 0
}
